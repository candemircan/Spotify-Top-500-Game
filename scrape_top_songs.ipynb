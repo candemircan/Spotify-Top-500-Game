{
 "cells": [
  {
   "cell_type": "markdown",
   "metadata": {},
   "source": [
    "## scrape top songs\n",
    "\n",
    "From `https://kworb.net/spotify`, get the names of most popular artists and their most famous songs.\n",
    "\n",
    "I'm scraping the top 500, but change it as you like.\n",
    "\n",
    "*Note*: Change the `DELAY` to a higher number if your requests are getting blocked for making requests too frequently."
   ]
  },
  {
   "cell_type": "code",
   "execution_count": null,
   "metadata": {},
   "outputs": [],
   "source": [
    "import json\n",
    "import time\n",
    "\n",
    "import requests\n",
    "from bs4 import BeautifulSoup"
   ]
  },
  {
   "cell_type": "code",
   "execution_count": null,
   "metadata": {},
   "outputs": [],
   "source": [
    "NUM_ARTISTS = 500\n",
    "DELAY = 0  # to not get blocked from access.\n",
    "\n",
    "BASE_URL = \"https://kworb.net/spotify\"\n",
    "ARTISTS_URL = f\"{BASE_URL}/listeners.html\""
   ]
  },
  {
   "cell_type": "code",
   "execution_count": null,
   "metadata": {},
   "outputs": [],
   "source": [
    "response = requests.get(ARTISTS_URL)\n",
    "\n",
    "soup = BeautifulSoup(response.content, \"html.parser\")"
   ]
  },
  {
   "cell_type": "code",
   "execution_count": null,
   "metadata": {},
   "outputs": [],
   "source": [
    "table = soup.find_all(\"table\")[0]\n",
    "top_rows = table.find_all(\"tbody\")[0].find_all(\"tr\")"
   ]
  },
  {
   "cell_type": "code",
   "execution_count": null,
   "metadata": {},
   "outputs": [],
   "source": [
    "table = soup.find_all(\"table\")[0]\n",
    "top_rows = table.find_all(\"tbody\")[0].find_all(\"tr\")\n",
    "unfiltered_top_artist_links = [f\"{BASE_URL}/{x.find('a')['href']}\" for x in top_rows]\n",
    "unfiltered_top_artist_names = [\n",
    "    x.find(\"a\").get_text().replace(\" \", \"_\").replace(\"/\", \"_\") for x in top_rows\n",
    "]\n",
    "\n",
    "cur_artist_no = 0\n",
    "\n",
    "top_artist_links = {}\n",
    "\n",
    "for top_artist_name, top_artist_link in zip(\n",
    "    unfiltered_top_artist_names, unfiltered_top_artist_links\n",
    "):\n",
    "    # some artists don't have the same table structure and don't have song names under them.\n",
    "    # skip those\n",
    "    if top_artist_link.endswith(\"songs.html\"):\n",
    "        top_artist_links[top_artist_name] = top_artist_link\n",
    "        cur_artist_no += 1\n",
    "\n",
    "    if cur_artist_no == NUM_ARTISTS:\n",
    "        break"
   ]
  },
  {
   "cell_type": "code",
   "execution_count": null,
   "metadata": {},
   "outputs": [],
   "source": [
    "top_songs = {}\n",
    "\n",
    "for top_artist_name, top_artist_link in top_artist_links.items():\n",
    "    artist_response = requests.get(top_artist_link)\n",
    "\n",
    "    artist_soup = BeautifulSoup(artist_response.content, \"html.parser\")\n",
    "\n",
    "    song_no = 1\n",
    "    found = False\n",
    "    while not found:\n",
    "        song_name = (\n",
    "            artist_soup.find_all(\"table\")[1]\n",
    "            .find_all(\"tr\")[song_no]\n",
    "            .find(\"a\")\n",
    "            .get_text(strip=True)\n",
    "        )\n",
    "\n",
    "        # stars denote featuring\n",
    "        # do not want this!\n",
    "        if \"*\" not in song_name:\n",
    "            song_link = (\n",
    "                artist_soup.find_all(\"table\")[1]\n",
    "                .find_all(\"tr\")[song_no]\n",
    "                .find(\"a\")[\"href\"]\n",
    "            )\n",
    "            top_songs[top_artist_name] = song_link\n",
    "            found = True\n",
    "\n",
    "        else:\n",
    "            song_no += 1\n",
    "\n",
    "    time.sleep(DELAY)"
   ]
  },
  {
   "cell_type": "code",
   "execution_count": null,
   "metadata": {},
   "outputs": [],
   "source": [
    "assert (\n",
    "    len(top_songs) == NUM_ARTISTS\n",
    "), \"The number of wanted and obtained songs do not match.\"\n",
    "for song_url in top_songs.values():\n",
    "    assert song_url.startswith(\n",
    "        \"https://open.spotify.com/track/\"\n",
    "    ), f\"URL is off {song_url}\""
   ]
  },
  {
   "cell_type": "code",
   "execution_count": null,
   "metadata": {},
   "outputs": [],
   "source": [
    "with open(\"song_links.json\", \"w\") as f:\n",
    "    json.dump(top_songs, f)"
   ]
  }
 ],
 "metadata": {
  "kernelspec": {
   "display_name": "web_scrape",
   "language": "python",
   "name": "python3"
  },
  "language_info": {
   "codemirror_mode": {
    "name": "ipython",
    "version": 3
   },
   "file_extension": ".py",
   "mimetype": "text/x-python",
   "name": "python",
   "nbconvert_exporter": "python",
   "pygments_lexer": "ipython3",
   "version": "3.12.3"
  }
 },
 "nbformat": 4,
 "nbformat_minor": 2
}
