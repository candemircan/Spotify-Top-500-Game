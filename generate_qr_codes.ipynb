{
 "cells": [
  {
   "cell_type": "markdown",
   "metadata": {},
   "source": [
    "## generate qr codes\n",
    "\n",
    "After scraping the top songs, use the generated links to request the corresponding qr codes.\n",
    "\n",
    "Assign a random colour from the selection to each qr code.\n",
    "\n",
    "The link skeleton is described in [this github issue](https://github.com/spotify/web-api/issues/519#issuecomment-618114678), the colours are from [here](https://github.com/sarraahr/limonata-colors)."
   ]
  },
  {
   "cell_type": "code",
   "execution_count": null,
   "metadata": {},
   "outputs": [],
   "source": [
    "import json\n",
    "import random\n",
    "from os import makedirs\n",
    "import requests\n",
    "\n",
    "random.seed(1234)\n",
    "\n",
    "makedirs(\"qr_codes\",exist_ok=True)"
   ]
  },
  {
   "cell_type": "code",
   "execution_count": null,
   "metadata": {},
   "outputs": [],
   "source": [
    "FORMAT = \"png\"\n",
    "SIZE = 290\n",
    "\n",
    "colours = json.load(open(\"colours.json\")) \n",
    "song_links = json.load(open(\"song_links.json\"))\n",
    "\n",
    "\n",
    "\n",
    "link_skeleton = \"https://scannables.scdn.co/uri/plain/{format}/{colour}/{text_colour}/{size}/spotify:track:{url}\""
   ]
  },
  {
   "cell_type": "markdown",
   "metadata": {},
   "source": [
    "This is to adjust the text colour accordingly, so that the contrast is sensible."
   ]
  },
  {
   "cell_type": "code",
   "execution_count": null,
   "metadata": {},
   "outputs": [],
   "source": [
    "def get_text_colour(hex_color):\n",
    "    # Convert hex color to RGB\n",
    "    r = int(hex_color[1:3], 16)\n",
    "    g = int(hex_color[3:5], 16)\n",
    "    b = int(hex_color[5:7], 16)\n",
    "\n",
    "    # Calculate the relative luminance\n",
    "    # chatgpt wrote this, no clue where these numbers come from\n",
    "    # but it works.\n",
    "    luminance = (0.2126 * r + 0.7152 * g + 0.0722 * b) / 255\n",
    "\n",
    "    # Choose black or white based on luminance\n",
    "    return \"black\" if luminance > 0.5 else \"white\""
   ]
  },
  {
   "cell_type": "code",
   "execution_count": null,
   "metadata": {},
   "outputs": [],
   "source": [
    "background_colours = []\n",
    "for rank, (name, link) in enumerate(song_links.items()):\n",
    "    colour = random.choice(colours).replace(\"#\", \"\")\n",
    "    text_colour = get_text_colour(colour)\n",
    "    url = link.split(\"track/\")[1]\n",
    "    qr_link = link_skeleton.format(\n",
    "        format=FORMAT, colour=colour, text_colour=text_colour, size=SIZE, url=url\n",
    "    )\n",
    "\n",
    "    response = requests.get(qr_link)\n",
    "\n",
    "    file_name = f\"qr_codes/{rank}_{name}.{FORMAT}\"\n",
    "\n",
    "    with open(file_name, \"wb\") as f:\n",
    "        f.write(response.content)\n",
    "\n",
    "    background_colours.append(f\"#{colour}\")\n",
    "\n",
    "with open(\"background_colours.json\", \"w\") as f:\n",
    "    json.dump(background_colours,f)"
   ]
  }
 ],
 "metadata": {
  "kernelspec": {
   "display_name": "web_scrape",
   "language": "python",
   "name": "python3"
  },
  "language_info": {
   "codemirror_mode": {
    "name": "ipython",
    "version": 3
   },
   "file_extension": ".py",
   "mimetype": "text/x-python",
   "name": "python",
   "nbconvert_exporter": "python",
   "pygments_lexer": "ipython3",
   "version": "3.12.3"
  }
 },
 "nbformat": 4,
 "nbformat_minor": 2
}
